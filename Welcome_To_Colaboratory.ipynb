{
  "cells": [
    {
      "cell_type": "markdown",
      "metadata": {
        "id": "view-in-github",
        "colab_type": "text"
      },
      "source": [
        "<a href=\"https://colab.research.google.com/github/alirezakhaleghianaghizi/breakbreaker_CPP_SDL/blob/master/Welcome_To_Colaboratory.ipynb\" target=\"_parent\"><img src=\"https://colab.research.google.com/assets/colab-badge.svg\" alt=\"Open In Colab\"/></a>"
      ]
    },
    {
      "cell_type": "markdown",
      "source": [
        "علیرضا خالقی آناقیزی99101462  \n",
        "گزارش و نوت بوک کد های تمرین اول یادگیری ماشین "
      ],
      "metadata": {
        "id": "dGliuCgK3yzE"
      }
    },
    {
      "cell_type": "markdown",
      "source": [
        "سوال 1"
      ],
      "metadata": {
        "id": "Z71xFDeC4V29"
      }
    },
    {
      "cell_type": "markdown",
      "source": [
        "ایمپورت کردن کتاب خانه های مورد استفاده و گوگل درایو برای لود کردن داده ها"
      ],
      "metadata": {
        "id": "aJq8vdUW2x9I"
      }
    },
    {
      "cell_type": "code",
      "source": [
        "import csv \n",
        "import numpy as np\n",
        "from google.colab import drive\n",
        "drive.mount('/content/drive')\n",
        "filename='/content/drive/MyDrive/ml/Q1_data.csv'  "
      ],
      "metadata": {
        "id": "HuX8DXwu2xMR"
      },
      "execution_count": null,
      "outputs": []
    },
    {
      "cell_type": "markdown",
      "source": [
        "داده های مساله را داخل یک لیست قرار میدهیم تا با استفاده از رابطه ماتریسی ضرایب مورد نظر را به دست آوریم\n",
        "\n",
        "A=x*invers(x)\n",
        "B=x*y\n",
        "w*=invers(A)*B\n",
        "\n",
        "همان ضرایب مساله است \n",
        "\n",
        "\n"
      ],
      "metadata": {
        "id": "ZT_i1a6L29G1"
      }
    },
    {
      "cell_type": "code",
      "source": [
        "\n",
        "fields = []\n",
        "trainningSet = []\n",
        "ValidationSet=[]\n",
        "with open(filename, 'r') as csvfile:\n",
        "    # creating a csv reader object\n",
        "    csvreader = csv.reader(csvfile)\n",
        "     \n",
        "    # extracting field names through first row\n",
        "    fields = next(csvreader)\n",
        " \n",
        "    # extracting each data row one by one\n",
        "    a=0\n",
        "    for row in csvreader:\n",
        "      if a<=400 : \n",
        "         trainningSet.append(row)\n",
        "      else :\n",
        "         ValidationSet.append(row)\n",
        "      a=a+1   \n",
        "\n",
        "\n",
        "\n"
      ],
      "metadata": {
        "id": "M_BL8GJoixxs"
      },
      "execution_count": null,
      "outputs": []
    },
    {
      "cell_type": "markdown",
      "source": [
        "در اینجا ماتریس های \n",
        "xو y  \n",
        "را به دست آوردیم و سپس روابط مورد نظر را انجام میدهیم "
      ],
      "metadata": {
        "id": "ZcNvQG8i7z_z"
      }
    },
    {
      "cell_type": "code",
      "source": [
        "tra= np.array(trainningSet).T\n",
        "y=tra[len(tra)-1]\n",
        "tra=tra[1:len(tra)-1]\n",
        "\n",
        "A=x*x"
      ],
      "metadata": {
        "id": "7TquQejz7xam"
      },
      "execution_count": null,
      "outputs": []
    }
  ],
  "metadata": {
    "colab": {
      "collapsed_sections": [],
      "name": "Welcome To Colaboratory",
      "provenance": [],
      "include_colab_link": true
    },
    "kernelspec": {
      "display_name": "Python 3",
      "name": "python3"
    }
  },
  "nbformat": 4,
  "nbformat_minor": 0
}